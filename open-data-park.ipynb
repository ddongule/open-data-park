{
 "cells": [
  {
   "cell_type": "markdown",
   "metadata": {},
   "source": [
    "# 전국 도시 공원 표준 데이터 분석"
   ]
  },
  {
   "cell_type": "code",
   "execution_count": 11,
   "metadata": {},
   "outputs": [
    {
     "data": {
      "text/html": [
       "<div>\n",
       "<style scoped>\n",
       "    .dataframe tbody tr th:only-of-type {\n",
       "        vertical-align: middle;\n",
       "    }\n",
       "\n",
       "    .dataframe tbody tr th {\n",
       "        vertical-align: top;\n",
       "    }\n",
       "\n",
       "    .dataframe thead th {\n",
       "        text-align: right;\n",
       "    }\n",
       "</style>\n",
       "<table border=\"1\" class=\"dataframe\">\n",
       "  <thead>\n",
       "    <tr style=\"text-align: right;\">\n",
       "      <th></th>\n",
       "      <th>관리번호</th>\n",
       "      <th>공원명</th>\n",
       "      <th>공원구분</th>\n",
       "      <th>소재지도로명주소</th>\n",
       "      <th>소재지지번주소</th>\n",
       "      <th>위도</th>\n",
       "      <th>경도</th>\n",
       "      <th>공원면적</th>\n",
       "      <th>공원보유시설(운동시설)</th>\n",
       "      <th>공원보유시설(유희시설)</th>\n",
       "      <th>공원보유시설(편익시설)</th>\n",
       "      <th>공원보유시설(교양시설)</th>\n",
       "      <th>공원보유시설(기타시설)</th>\n",
       "      <th>지정고시일</th>\n",
       "      <th>관리기관명</th>\n",
       "      <th>전화번호</th>\n",
       "      <th>데이터기준일자</th>\n",
       "      <th>Unnamed: 17</th>\n",
       "    </tr>\n",
       "  </thead>\n",
       "  <tbody>\n",
       "    <tr>\n",
       "      <th>0</th>\n",
       "      <td>42800-00001</td>\n",
       "      <td>상리공원</td>\n",
       "      <td>어린이공원</td>\n",
       "      <td>강원도 양구군 양구읍 상리 531</td>\n",
       "      <td>강원도 양구군 양구읍 상리 531</td>\n",
       "      <td>38.105771</td>\n",
       "      <td>127.985895</td>\n",
       "      <td>1597</td>\n",
       "      <td>NaN</td>\n",
       "      <td>NaN</td>\n",
       "      <td>NaN</td>\n",
       "      <td>NaN</td>\n",
       "      <td>NaN</td>\n",
       "      <td>1995-12-27</td>\n",
       "      <td>강원도 양구군청</td>\n",
       "      <td>033-480-2927</td>\n",
       "      <td>2018-02-28</td>\n",
       "      <td>NaN</td>\n",
       "    </tr>\n",
       "    <tr>\n",
       "      <th>1</th>\n",
       "      <td>42800-00002</td>\n",
       "      <td>정림공원1</td>\n",
       "      <td>어린이공원</td>\n",
       "      <td>강원도 양구군 양구읍 상리 587</td>\n",
       "      <td>강원도 양구군 양구읍 상리 587</td>\n",
       "      <td>38.104065</td>\n",
       "      <td>127.984467</td>\n",
       "      <td>1498</td>\n",
       "      <td>NaN</td>\n",
       "      <td>NaN</td>\n",
       "      <td>NaN</td>\n",
       "      <td>NaN</td>\n",
       "      <td>NaN</td>\n",
       "      <td>2009-09-25</td>\n",
       "      <td>강원도 양구군청</td>\n",
       "      <td>033-480-2927</td>\n",
       "      <td>2018-02-28</td>\n",
       "      <td>NaN</td>\n",
       "    </tr>\n",
       "    <tr>\n",
       "      <th>2</th>\n",
       "      <td>42800-00003</td>\n",
       "      <td>정림공원2</td>\n",
       "      <td>어린이공원</td>\n",
       "      <td>강원도 양구군 양구읍 상리 604-6</td>\n",
       "      <td>강원도 양구군 양구읍 상리 604-6</td>\n",
       "      <td>38.104065</td>\n",
       "      <td>127.984467</td>\n",
       "      <td>1499</td>\n",
       "      <td>NaN</td>\n",
       "      <td>NaN</td>\n",
       "      <td>NaN</td>\n",
       "      <td>NaN</td>\n",
       "      <td>NaN</td>\n",
       "      <td>2009-09-25</td>\n",
       "      <td>강원도 양구군청</td>\n",
       "      <td>033-480-2927</td>\n",
       "      <td>2018-02-28</td>\n",
       "      <td>NaN</td>\n",
       "    </tr>\n",
       "    <tr>\n",
       "      <th>3</th>\n",
       "      <td>42800-00004</td>\n",
       "      <td>하리수변공원</td>\n",
       "      <td>수변공원</td>\n",
       "      <td>강원도 양구군 양구읍 하리 643</td>\n",
       "      <td>강원도 양구군 양구읍 하리 643</td>\n",
       "      <td>38.118243</td>\n",
       "      <td>127.981634</td>\n",
       "      <td>18437</td>\n",
       "      <td>NaN</td>\n",
       "      <td>NaN</td>\n",
       "      <td>NaN</td>\n",
       "      <td>NaN</td>\n",
       "      <td>NaN</td>\n",
       "      <td>2010-03-19</td>\n",
       "      <td>강원도 양구군청</td>\n",
       "      <td>033-480-2460</td>\n",
       "      <td>2018-02-28</td>\n",
       "      <td>NaN</td>\n",
       "    </tr>\n",
       "    <tr>\n",
       "      <th>4</th>\n",
       "      <td>42800-00005</td>\n",
       "      <td>묘지공원</td>\n",
       "      <td>묘지공원</td>\n",
       "      <td>강원도 양구군 양구읍 죽곡리 산3-1</td>\n",
       "      <td>강원도 양구군 양구읍 죽곡리 산3-1</td>\n",
       "      <td>38.125344</td>\n",
       "      <td>127.999027</td>\n",
       "      <td>178931</td>\n",
       "      <td>NaN</td>\n",
       "      <td>NaN</td>\n",
       "      <td>NaN</td>\n",
       "      <td>NaN</td>\n",
       "      <td>NaN</td>\n",
       "      <td>2010-10-01</td>\n",
       "      <td>강원도 양구군청</td>\n",
       "      <td>033-480-2576</td>\n",
       "      <td>2018-02-28</td>\n",
       "      <td>NaN</td>\n",
       "    </tr>\n",
       "  </tbody>\n",
       "</table>\n",
       "</div>"
      ],
      "text/plain": [
       "          관리번호     공원명   공원구분              소재지도로명주소               소재지지번주소  \\\n",
       "0  42800-00001    상리공원  어린이공원    강원도 양구군 양구읍 상리 531    강원도 양구군 양구읍 상리 531   \n",
       "1  42800-00002   정림공원1  어린이공원    강원도 양구군 양구읍 상리 587    강원도 양구군 양구읍 상리 587   \n",
       "2  42800-00003   정림공원2  어린이공원  강원도 양구군 양구읍 상리 604-6  강원도 양구군 양구읍 상리 604-6   \n",
       "3  42800-00004  하리수변공원   수변공원    강원도 양구군 양구읍 하리 643    강원도 양구군 양구읍 하리 643   \n",
       "4  42800-00005    묘지공원   묘지공원  강원도 양구군 양구읍 죽곡리 산3-1  강원도 양구군 양구읍 죽곡리 산3-1   \n",
       "\n",
       "          위도          경도    공원면적 공원보유시설(운동시설) 공원보유시설(유희시설) 공원보유시설(편익시설)  \\\n",
       "0  38.105771  127.985895    1597          NaN          NaN          NaN   \n",
       "1  38.104065  127.984467    1498          NaN          NaN          NaN   \n",
       "2  38.104065  127.984467    1499          NaN          NaN          NaN   \n",
       "3  38.118243  127.981634   18437          NaN          NaN          NaN   \n",
       "4  38.125344  127.999027  178931          NaN          NaN          NaN   \n",
       "\n",
       "  공원보유시설(교양시설) 공원보유시설(기타시설)       지정고시일     관리기관명          전화번호     데이터기준일자  \\\n",
       "0          NaN          NaN  1995-12-27  강원도 양구군청  033-480-2927  2018-02-28   \n",
       "1          NaN          NaN  2009-09-25  강원도 양구군청  033-480-2927  2018-02-28   \n",
       "2          NaN          NaN  2009-09-25  강원도 양구군청  033-480-2927  2018-02-28   \n",
       "3          NaN          NaN  2010-03-19  강원도 양구군청  033-480-2460  2018-02-28   \n",
       "4          NaN          NaN  2010-10-01  강원도 양구군청  033-480-2576  2018-02-28   \n",
       "\n",
       "   Unnamed: 17  \n",
       "0          NaN  \n",
       "1          NaN  \n",
       "2          NaN  \n",
       "3          NaN  \n",
       "4          NaN  "
      ]
     },
     "execution_count": 11,
     "metadata": {},
     "output_type": "execute_result"
    }
   ],
   "source": [
    "import pandas as pd\n",
    "from plotnine import *\n",
    "import re\n",
    "import folium\n",
    "df = pd.read_csv('전국도시공원표준데이터.csv', encoding='euc-kr')\n",
    "df.shape\n",
    "# %ls # 폴더 안의 file list 들을 알 수 있다.\n",
    "df.head(5)"
   ]
  },
  {
   "cell_type": "code",
   "execution_count": 12,
   "metadata": {},
   "outputs": [
    {
     "data": {
      "text/plain": [
       "관리번호                0\n",
       "공원명                 0\n",
       "공원구분                0\n",
       "소재지도로명주소         5898\n",
       "소재지지번주소          1204\n",
       "위도                  6\n",
       "경도                  6\n",
       "공원면적               27\n",
       "공원보유시설(운동시설)     9579\n",
       "공원보유시설(유희시설)     8418\n",
       "공원보유시설(편익시설)     9672\n",
       "공원보유시설(교양시설)    12382\n",
       "공원보유시설(기타시설)    11040\n",
       "지정고시일            1939\n",
       "관리기관명             783\n",
       "전화번호              925\n",
       "데이터기준일자             0\n",
       "Unnamed: 17     13135\n",
       "dtype: int64"
      ]
     },
     "execution_count": 12,
     "metadata": {},
     "output_type": "execute_result"
    }
   ],
   "source": [
    "df.isnull().sum() # null값을 가진 데이터들을 알 수 있다. "
   ]
  },
  {
   "cell_type": "code",
   "execution_count": 13,
   "metadata": {},
   "outputs": [],
   "source": [
    "df.drop(columns=['공원보유시설(운동시설)', '공원보유시설(유희시설)', '공원보유시설(편익시설)', '공원보유시설(교양시설)',\n",
    "       '공원보유시설(기타시설)', '지정고시일', '관리기관명', 'Unnamed: 17'], inplace=True)"
   ]
  },
  {
   "cell_type": "markdown",
   "metadata": {},
   "source": [
    "### 시도와 구군 데이터 가져오기"
   ]
  },
  {
   "cell_type": "code",
   "execution_count": 14,
   "metadata": {},
   "outputs": [],
   "source": [
    "df['시도'] = df['소재지도로명주소'].str.split(' ', expand=True)[0]\n",
    "df['구군'] = df['소재지도로명주소'].str.split(' ', expand=True)[1]"
   ]
  },
  {
   "cell_type": "code",
   "execution_count": 15,
   "metadata": {},
   "outputs": [
    {
     "data": {
      "text/plain": [
       "5898"
      ]
     },
     "execution_count": 15,
     "metadata": {},
     "output_type": "execute_result"
    }
   ],
   "source": [
    "df['시도'].isnull().sum()\n",
    "df['구군'].isnull().sum()"
   ]
  },
  {
   "cell_type": "code",
   "execution_count": 16,
   "metadata": {},
   "outputs": [
    {
     "data": {
      "text/plain": [
       "0     0.1597\n",
       "1     0.1498\n",
       "2     0.1499\n",
       "3     1.8437\n",
       "4    17.8931\n",
       "Name: 공원면적그래프용, dtype: float64"
      ]
     },
     "execution_count": 16,
     "metadata": {},
     "output_type": "execute_result"
    }
   ],
   "source": [
    "df['공원면적'] = df['공원면적'].str.replace(',', '').astype(float)\n",
    "df['공원면적그래프용'] = df['공원면적'].apply(lambda x : x * 0.0001)\n",
    "df['공원면적그래프용'].head()"
   ]
  },
  {
   "cell_type": "code",
   "execution_count": 17,
   "metadata": {},
   "outputs": [
    {
     "name": "stderr",
     "output_type": "stream",
     "text": [
      "/usr/local/Cellar/python3/3.6.4_2/Frameworks/Python.framework/Versions/3.6/lib/python3.6/site-packages/pandas/core/generic.py:4388: FutureWarning: Attribute 'is_copy' is deprecated and will be removed in a future version.\n",
      "  object.__getattribute__(self, name)\n",
      "/usr/local/Cellar/python3/3.6.4_2/Frameworks/Python.framework/Versions/3.6/lib/python3.6/site-packages/pandas/core/generic.py:4389: FutureWarning: Attribute 'is_copy' is deprecated and will be removed in a future version.\n",
      "  return object.__setattr__(self, name, value)\n",
      "/usr/local/Cellar/python3/3.6.4_2/Frameworks/Python.framework/Versions/3.6/lib/python3.6/site-packages/plotnine/layer.py:450: UserWarning: geom_point : Removed 6 rows containing missing values.\n",
      "  self.data = self.geom.handle_na(self.data)\n"
     ]
    },
    {
     "data": {
      "image/png": "[encoded data removed]",
      "text/plain": [
       "<Figure size 640x480 with 1 Axes>"
      ]
     },
     "metadata": {},
     "output_type": "display_data"
    },
    {
     "data": {
      "text/plain": [
       "<ggplot: (288733276)>"
      ]
     },
     "execution_count": 17,
     "metadata": {},
     "output_type": "execute_result"
    }
   ],
   "source": [
    "# 지도를 출력해 보니 특정 지역만 있습니다.\n",
    "# 결측치인 nan 데이터 때문에 다른 데이터가 제대로 보이지 않습니다.\n",
    "# nan 데이터를 제거하고 다시 그려봅니다.\n",
    "(ggplot(df)\n",
    " + aes(x='경도', y='위도')\n",
    " + geom_point()\n",
    " + theme(text=element_text(family='NanumBarunGothicOTF'))\n",
    ")\n"
   ]
  },
  {
   "cell_type": "code",
   "execution_count": 18,
   "metadata": {},
   "outputs": [
    {
     "data": {
      "text/plain": [
       "(7237, 13)"
      ]
     },
     "execution_count": 18,
     "metadata": {},
     "output_type": "execute_result"
    }
   ],
   "source": [
    "df_loc_notnull = df.loc[(df['위도'] > 32) & (df['경도'] < 132) \n",
    "                            & df['시도'].notnull()]\n",
    "df_loc_notnull.shape"
   ]
  },
  {
   "cell_type": "code",
   "execution_count": 19,
   "metadata": {},
   "outputs": [
    {
     "name": "stderr",
     "output_type": "stream",
     "text": [
      "/usr/local/Cellar/python3/3.6.4_2/Frameworks/Python.framework/Versions/3.6/lib/python3.6/site-packages/pandas/core/generic.py:4388: FutureWarning: Attribute 'is_copy' is deprecated and will be removed in a future version.\n",
      "  object.__getattribute__(self, name)\n",
      "/usr/local/Cellar/python3/3.6.4_2/Frameworks/Python.framework/Versions/3.6/lib/python3.6/site-packages/pandas/core/generic.py:4389: FutureWarning: Attribute 'is_copy' is deprecated and will be removed in a future version.\n",
      "  return object.__setattr__(self, name, value)\n",
      "/usr/local/Cellar/python3/3.6.4_2/Frameworks/Python.framework/Versions/3.6/lib/python3.6/site-packages/plotnine/layer.py:450: UserWarning: geom_point : Removed 6 rows containing missing values.\n",
      "  self.data = self.geom.handle_na(self.data)\n"
     ]
    },
    {
     "data": {
      "image/png": "[encoded data removed]",
      "text/plain": [
       "<Figure size 640x480 with 1 Axes>"
      ]
     },
     "metadata": {},
     "output_type": "display_data"
    },
    {
     "data": {
      "text/plain": [
       "<ggplot: (284628614)>"
      ]
     },
     "execution_count": 19,
     "metadata": {},
     "output_type": "execute_result"
    }
   ],
   "source": [
    "(ggplot(df)\n",
    " + aes(x='경도', y='위도')\n",
    " + geom_point()\n",
    " + theme(text=element_text(family='NanumBarunGothicOTF'))\n",
    ")"
   ]
  },
  {
   "cell_type": "code",
   "execution_count": null,
   "metadata": {},
   "outputs": [],
   "source": []
  },
  {
   "cell_type": "code",
   "execution_count": null,
   "metadata": {},
   "outputs": [],
   "source": []
  },
  {
   "cell_type": "code",
   "execution_count": null,
   "metadata": {},
   "outputs": [],
   "source": []
  },
  {
   "cell_type": "code",
   "execution_count": null,
   "metadata": {},
   "outputs": [],
   "source": []
  },
  {
   "cell_type": "code",
   "execution_count": null,
   "metadata": {},
   "outputs": [],
   "source": []
  },
  {
   "cell_type": "code",
   "execution_count": null,
   "metadata": {},
   "outputs": [],
   "source": []
  },
  {
   "cell_type": "code",
   "execution_count": null,
   "metadata": {},
   "outputs": [],
   "source": []
  },
  {
   "cell_type": "code",
   "execution_count": null,
   "metadata": {},
   "outputs": [],
   "source": []
  },
  {
   "cell_type": "code",
   "execution_count": null,
   "metadata": {},
   "outputs": [],
   "source": []
  },
  {
   "cell_type": "code",
   "execution_count": null,
   "metadata": {},
   "outputs": [],
   "source": []
  },
  {
   "cell_type": "code",
   "execution_count": null,
   "metadata": {},
   "outputs": [],
   "source": []
  },
  {
   "cell_type": "code",
   "execution_count": null,
   "metadata": {},
   "outputs": [],
   "source": []
  }
 ],
 "metadata": {
  "kernelspec": {
   "display_name": "Python 3",
   "language": "python",
   "name": "python3"
  },
  "language_info": {
   "codemirror_mode": {
    "name": "ipython",
    "version": 3
   },
   "file_extension": ".py",
   "mimetype": "text/x-python",
   "name": "python",
   "nbconvert_exporter": "python",
   "pygments_lexer": "ipython3",
   "version": "3.6.4"
  }
 },
 "nbformat": 4,
 "nbformat_minor": 2
}
